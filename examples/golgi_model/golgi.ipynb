{
 "cells": [
  {
   "cell_type": "code",
   "execution_count": 1,
   "metadata": {},
   "outputs": [],
   "source": [
    "from typing import Callable, Sequence\n",
    "import brainstate as bst\n",
    "import braintools as bts\n",
    "import brainunit as bu\n",
    "import jax\n",
    "import matplotlib.pyplot as plt\n",
    "import numpy as np\n",
    "from scipy.optimize import minimize\n",
    "import dendritex as dx\n",
    "from dendritex import IonInfo\n",
    "import golgi_mophology\n",
    "\n",
    "bst.environ.set(dt=0.001 * bu.ms)\n",
    "s = bu.mS / (bu.cm ** 2)"
   ]
  },
  {
   "cell_type": "code",
   "execution_count": 2,
   "metadata": {},
   "outputs": [],
   "source": [
    "## morphology params\n",
    "loaded_params = np.load('golgi_morphology.npz')\n",
    "\n",
    "connection = loaded_params['connection']\n",
    "L = loaded_params['L']               # um\n",
    "diam = loaded_params['diam']         # um\n",
    "Ra = loaded_params['Ra']             # ohm * cm\n",
    "cm = loaded_params['cm']             # uF / cm ** 2\n",
    "\n",
    "n_neuron = 1\n",
    "n_compartments = len(L)\n",
    "size = (n_neuron,n_compartments)\n",
    "\n",
    "index_soma = loaded_params['index_soma']\n",
    "index_axon = loaded_params['index_axon']\n",
    "index_dend_basal = loaded_params['index_dend_basal']\n",
    "index_dend_apical = loaded_params['index_dend_apical']"
   ]
  },
  {
   "cell_type": "markdown",
   "metadata": {},
   "source": [
    "## test ion "
   ]
  },
  {
   "cell_type": "code",
   "execution_count": 3,
   "metadata": {},
   "outputs": [],
   "source": [
    "connection = ((1,2),(2,3))"
   ]
  },
  {
   "cell_type": "code",
   "execution_count": 9,
   "metadata": {},
   "outputs": [],
   "source": [
    "gl = np.zeros(n_compartments) \n",
    "gh =  np.zeros(n_compartments) \n",
    "gh[index_soma] = 15."
   ]
  },
  {
   "cell_type": "code",
   "execution_count": 5,
   "metadata": {},
   "outputs": [],
   "source": [
    "class Golgi(dx.neurons.MultiCompartment):\n",
    "  def __init__(self, size , connection, Ra, cm, diam, L, gl, gh):\n",
    "    super().__init__(\n",
    "      size = size,\n",
    "      connection = connection,\n",
    "      Ra = Ra * bu.ohm * bu.cm,\n",
    "      cm = cm * bu.uF / bu.cm ** 2,\n",
    "      diam = diam * bu.um,\n",
    "      L = L * bu.um,\n",
    "      V_th = 20. * bu.mV,\n",
    "      V_initializer = bst.init.Constant(-55 * bu.mV),\n",
    "      spk_fun = bst.surrogate.ReluGrad(),\n",
    "    )\n",
    "\n",
    "    self.IL = dx.channels.IL(self.size, E = -55. * bu.mV, g_max = gl*s )\n",
    "    #self.Ih1 = dx.channels.Ih2_Ma2020(self.size, E = -20. * bu.mV, g_max = gh*s )\n",
    "    self.ca = dx.ions.SodiumFixed(self.size, E = 130.* bu.mV , C = 5e-5 *bu.mM )\n",
    "    self.ca.add_elem(dx.channels.ICav31_Ma2020(self.size, g_max = gh*s ))\n",
    "   \n",
    "  def step_run(self, t, inp):\n",
    "    dx.rk4_step(self, t, inp)\n",
    "    return self.V.value, self.spike.value"
   ]
  },
  {
   "cell_type": "code",
   "execution_count": 6,
   "metadata": {},
   "outputs": [],
   "source": [
    "from functools import partial\n",
    "\n",
    "#static_args = np.arange(1, 9)\n",
    "#@partial(jax.jit, static_argnums=static_args)\n",
    "#@jax.jit\n",
    "def simulate(currents, size , connection, Ra, cm, diam, L, gl, gkv11):\n",
    "  cell = Golgi(size , connection, Ra, cm, diam, L, gl, gkv11)\n",
    "  cell.init_state()\n",
    "  cell.reset_state()\n",
    "\n",
    "  times = np.arange(0, currents.shape[0]) * bst.environ.get_dt()\n",
    "  vs, spks = bst.transform.for_loop(cell.step_run, times, currents)\n",
    "  \n",
    "  return vs, spks \n"
   ]
  },
  {
   "cell_type": "code",
   "execution_count": 7,
   "metadata": {},
   "outputs": [],
   "source": [
    "def visualize_a_simulate(currents, size ,connection, Ra, cm, diam, L, gl, gkv11):\n",
    "  times = np.arange(0, currents.shape[0]) * bst.environ.get_dt()\n",
    "  vs, spks = simulate(currents, size ,connection, Ra, cm, diam, L, gl, gkv11)\n",
    "\n",
    "  fig, gs = bts.visualize.get_figure(1, 1, 3.0, 4.0)\n",
    "  ax = fig.add_subplot(gs[0, 0])\n",
    "  plt.plot(times / bu.ms, bu.math.squeeze(vs / bu.mV))\n",
    "  plt.xlabel('Time [ms]')\n",
    "  plt.ylabel('Potential [mV]')\n",
    "  plt.show()"
   ]
  },
  {
   "cell_type": "code",
   "execution_count": 10,
   "metadata": {},
   "outputs": [
    {
     "data": {
      "image/png": "[encoded data removed]",
      "text/plain": [
       "<Figure size 400x300 with 1 Axes>"
      ]
     },
     "metadata": {},
     "output_type": "display_data"
    }
   ],
   "source": [
    "n_batch, n_seq =1, 200000\n",
    "inp_traces = np.full((n_batch, n_seq, n_compartments), 0.) * bu.nA\n",
    "inp_traces[...,0] =0.00  * bu.nA\n",
    "inp_traces[:,int(n_seq/2):,:] =0.00  * bu.nA\n",
    "visualize_a_simulate(inp_traces[0], size , connection, Ra, cm, diam, L, gl, gh)"
   ]
  },
  {
   "cell_type": "code",
   "execution_count": 9,
   "metadata": {},
   "outputs": [
    {
     "data": {
      "text/plain": [
       "Array(-0.00432491, dtype=float32)"
      ]
     },
     "execution_count": 9,
     "metadata": {},
     "output_type": "execute_result"
    }
   ],
   "source": [
    "E = (1e-3) * -55*bu.mV\n",
    "zeta = (2 * bu.faraday_constant * E )/( bu.gas_constant  * (273.15 + 22) * bu.kelvin)\n",
    "zeta.to_decimal()\n",
    "\n"
   ]
  },
  {
   "cell_type": "code",
   "execution_count": null,
   "metadata": {},
   "outputs": [],
   "source": [
    "a = -55 * bu.mV\n",
    "b=a / bu.mV\n",
    "b"
   ]
  },
  {
   "cell_type": "code",
   "execution_count": null,
   "metadata": {},
   "outputs": [],
   "source": [
    "## conductvalues \n",
    "conductvalues = 1e3 * np.array([\n",
    "    0.00499506303209, 0.01016375552607, 0.00247172479141, 0.00128859564935, \n",
    "    3.690771983E-05, 0.0080938853146, 0.01226052748146, 0.01650689958385, \n",
    "    0.00139885617712, 0.14927733727426, 0.00549507510519, 0.14910988921938, \n",
    "    0.00406420380423, 0.01764345789036, 0.10177335775222, 0.0087689418803, \n",
    "    3.407734319E-05, 0.0003371456442, 0.00030643090764, 0.17233663543619, \n",
    "    0.00024381226198, 0.10008178886943, 0.00595046001148, 0.0115, 0.0091\n",
    "])\n",
    "\n",
    "\n",
    "## IL params\n",
    "gl =  np.ones(n_compartments) \n",
    "gl[index_soma] = 0.03  \n",
    "gl[index_axon] = 0.001  \n",
    "gl[index_axon[0]] = 0.03\n",
    "gl[index_dend_basal] = 0.03\n",
    "gl[index_dend_apical] = 0.03   \n",
    "\n",
    "\n",
    "## Kv11 params\n",
    "gkv11 =  np.zeros(n_compartments) \n",
    "gkv11[index_soma] = conductvalues[10] \n",
    "\n",
    "## Kv34 params \n",
    "gkv34 =  np.zeros(n_compartments) \n",
    "gkv34[index_soma] = conductvalues[11]\n",
    "gkv34[index_axon[1:]] = 9.1\n",
    "\n",
    "## Kv43 params \n",
    "gkv43 =  np.zeros(n_compartments) \n",
    "gkv43[index_soma] = conductvalues[12]\n"
   ]
  },
  {
   "cell_type": "code",
   "execution_count": null,
   "metadata": {},
   "outputs": [],
   "source": [
    "class Golgi(dx.neurons.MultiCompartment):\n",
    "  def __init__(self, size , connection, Ra, cm, diam, L, gl, gkv11):\n",
    "    super().__init__(\n",
    "      size = size,\n",
    "      connection = connection,\n",
    "      Ra = Ra * bu.ohm * bu.cm,\n",
    "      cm = cm * bu.uF / bu.cm ** 2,\n",
    "      diam = diam * bu.um,\n",
    "      L = L * bu.um,\n",
    "      V_th = 20. * bu.mV,\n",
    "      V_initializer = bst.init.Constant(-55 * bu.mV),\n",
    "      spk_fun = bst.surrogate.ReluGrad(),\n",
    "    )\n",
    "\n",
    "    self.IL = dx.channels.IL(self.size, E = -55. * bu.mV, g_max = gl*s )\n",
    "    self.k = dx.ions.PotassiumFixed(self.size, E = -80.* bu.mV)\n",
    "    self.k.add_elem(dx.channels.IKv11_Ak2007(self.size, g_max = gkv11*s ))\n",
    "   \n",
    "  def step_run(self, t, inp):\n",
    "    dx.rk4_step(self, t, inp)\n",
    "    return self.V.value, self.spike.value"
   ]
  },
  {
   "cell_type": "code",
   "execution_count": null,
   "metadata": {},
   "outputs": [],
   "source": [
    "from functools import partial\n",
    "\n",
    "#static_args = np.arange(1, 9)\n",
    "#@partial(jax.jit, static_argnums=static_args)\n",
    "#@jax.jit\n",
    "def simulate(currents, size , connection, Ra, cm, diam, L, gl, gkv11):\n",
    "  cell = Golgi(size , connection, Ra, cm, diam, L, gl, gkv11)\n",
    "  cell.init_state()\n",
    "  cell.reset_state()\n",
    "\n",
    "  times = np.arange(0, currents.shape[0]) * bst.environ.get_dt()\n",
    "  vs, spks = bst.transform.for_loop(cell.step_run, times, currents)\n",
    "  \n",
    "  return vs, spks \n"
   ]
  },
  {
   "cell_type": "code",
   "execution_count": null,
   "metadata": {},
   "outputs": [],
   "source": [
    "def visualize_a_simulate(currents, size ,connection, Ra, cm, diam, L, gl, gkv11):\n",
    "  times = np.arange(0, currents.shape[0]) * bst.environ.get_dt()\n",
    "  vs, spks = simulate(currents, size ,connection, Ra, cm, diam, L, gl, gkv11)\n",
    "\n",
    "  fig, gs = bts.visualize.get_figure(1, 1, 3.0, 4.0)\n",
    "  ax = fig.add_subplot(gs[0, 0])\n",
    "  plt.plot(times / bu.ms, bu.math.squeeze(vs / bu.mV))\n",
    "  plt.xlabel('Time [ms]')\n",
    "  plt.ylabel('Potential [mV]')\n",
    "  plt.show()"
   ]
  },
  {
   "cell_type": "code",
   "execution_count": null,
   "metadata": {},
   "outputs": [],
   "source": [
    "n_batch, n_seq =1, 200000\n",
    "inp_traces = np.full((n_batch, n_seq, n_compartments), 0.) * bu.nA\n",
    "inp_traces[...,0] =0.00  * bu.nA\n",
    "inp_traces[:,int(n_seq/2):,:] =0.00  * bu.nA\n",
    "visualize_a_simulate(inp_traces[0], size , connection, Ra, cm, diam, L, gl, gkv11)"
   ]
  }
 ],
 "metadata": {
  "kernelspec": {
   "display_name": "base",
   "language": "python",
   "name": "python3"
  },
  "language_info": {
   "codemirror_mode": {
    "name": "ipython",
    "version": 3
   },
   "file_extension": ".py",
   "mimetype": "text/x-python",
   "name": "python",
   "nbconvert_exporter": "python",
   "pygments_lexer": "ipython3",
   "version": "3.10.14"
  }
 },
 "nbformat": 4,
 "nbformat_minor": 2
}
