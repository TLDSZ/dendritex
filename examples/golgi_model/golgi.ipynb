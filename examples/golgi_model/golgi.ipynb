{
 "cells": [
  {
   "cell_type": "code",
   "execution_count": 1,
   "metadata": {},
   "outputs": [],
   "source": [
    "from typing import Callable, Sequence\n",
    "import brainstate as bst\n",
    "import braintools as bts\n",
    "import brainunit as bu\n",
    "import jax\n",
    "import matplotlib.pyplot as plt\n",
    "import numpy as np\n",
    "from scipy.optimize import minimize\n",
    "import dendritex as dx\n",
    "from dendritex import IonInfo\n",
    "import golgi_mophology\n",
    "\n",
    "bst.environ.set(dt=0.001 * bu.ms)\n",
    "s = bu.mS / (bu.cm ** 2)"
   ]
  },
  {
   "cell_type": "code",
   "execution_count": 2,
   "metadata": {},
   "outputs": [],
   "source": [
    "## morphology params\n",
    "loaded_params = np.load('golgi_morphology.npz')\n",
    "\n",
    "connection = loaded_params['connection']\n",
    "L = loaded_params['L']               # um\n",
    "diam = loaded_params['diam']         # um\n",
    "Ra = loaded_params['Ra']             # ohm * cm\n",
    "cm = loaded_params['cm']             # uF / cm ** 2\n",
    "\n",
    "n_neuron = 1\n",
    "n_compartments = len(L)\n",
    "size = (n_neuron,n_compartments)\n",
    "\n",
    "index_soma = loaded_params['index_soma']\n",
    "index_axon = loaded_params['index_axon']\n",
    "index_dend_basal = loaded_params['index_dend_basal']\n",
    "index_dend_apical = loaded_params['index_dend_apical']"
   ]
  },
  {
   "cell_type": "markdown",
   "metadata": {},
   "source": [
    "## test ion "
   ]
  },
  {
   "cell_type": "code",
   "execution_count": 3,
   "metadata": {},
   "outputs": [],
   "source": [
    "connection = ((1,2),(2,3))"
   ]
  },
  {
   "cell_type": "code",
   "execution_count": 4,
   "metadata": {},
   "outputs": [],
   "source": [
    "gl = np.zeros(n_compartments) \n",
    "gh =  np.zeros(n_compartments) \n",
    "gh[index_soma] = 0.2"
   ]
  },
  {
   "cell_type": "code",
   "execution_count": 5,
   "metadata": {},
   "outputs": [],
   "source": [
    "class Golgi(dx.neurons.MultiCompartment):\n",
    "  def __init__(self, size , connection, Ra, cm, diam, L, gl, gh):\n",
    "    super().__init__(\n",
    "      size = size,\n",
    "      connection = connection,\n",
    "      Ra = Ra * bu.ohm * bu.cm,\n",
    "      cm = cm * bu.uF / bu.cm ** 2,\n",
    "      diam = diam * bu.um,\n",
    "      L = L * bu.um,\n",
    "      V_th = 20. * bu.mV,\n",
    "      V_initializer = bst.init.Constant(-55 * bu.mV),\n",
    "      spk_fun = bst.surrogate.ReluGrad(),\n",
    "    )\n",
    "\n",
    "    self.IL = dx.channels.IL(self.size, E = -55. * bu.mV, g_max = gl*s )\n",
    "    #self.Ih1 = dx.channels.Ih2_Ma2020(self.size, E = -20. * bu.mV, g_max = gh*s )\n",
    "    self.ca = dx.ions.CalciumFixed(self.size, E = 130.* bu.mV , C = 5e-5 *bu.mM )\n",
    "    self.ca.add_elem(dx.channels.ICav31_Ma2020(self.size, g_max = gh*s ))\n",
    "   \n",
    "  def step_run(self, t, inp):\n",
    "    dx.rk4_step(self, t, inp)\n",
    "    return self.V.value, self.spike.value"
   ]
  },
  {
   "cell_type": "code",
   "execution_count": 6,
   "metadata": {},
   "outputs": [],
   "source": [
    "from functools import partial\n",
    "\n",
    "#static_args = np.arange(1, 9)\n",
    "#@partial(jax.jit, static_argnums=static_args)\n",
    "#@jax.jit\n",
    "def simulate(currents, size , connection, Ra, cm, diam, L, gl, gkv11):\n",
    "  cell = Golgi(size , connection, Ra, cm, diam, L, gl, gkv11)\n",
    "  cell.init_state()\n",
    "  cell.reset_state()\n",
    "\n",
    "  times = np.arange(0, currents.shape[0]) * bst.environ.get_dt()\n",
    "  vs, spks = bst.transform.for_loop(cell.step_run, times, currents)\n",
    "  \n",
    "  return vs, spks \n"
   ]
  },
  {
   "cell_type": "code",
   "execution_count": null,
   "metadata": {},
   "outputs": [],
   "source": []
  },
  {
   "cell_type": "code",
   "execution_count": 7,
   "metadata": {},
   "outputs": [],
   "source": [
    "def visualize_a_simulate(currents, size ,connection, Ra, cm, diam, L, gl, gkv11):\n",
    "  times = np.arange(0, currents.shape[0]) * bst.environ.get_dt()\n",
    "  vs, spks = simulate(currents, size ,connection, Ra, cm, diam, L, gl, gkv11)\n",
    "\n",
    "  fig, gs = bts.visualize.get_figure(1, 1, 3.0, 4.0)\n",
    "  ax = fig.add_subplot(gs[0, 0])\n",
    "  plt.plot(times / bu.ms, bu.math.squeeze(vs / bu.mV))\n",
    "  plt.xlabel('Time [ms]')\n",
    "  plt.ylabel('Potential [mV]')\n",
    "  plt.show()"
   ]
  },
  {
   "cell_type": "code",
   "execution_count": 8,
   "metadata": {},
   "outputs": [],
   "source": [
    "jax.config.update(\"jax_disable_jit\", True)"
   ]
  },
  {
   "cell_type": "code",
   "execution_count": 9,
   "metadata": {},
   "outputs": [
    {
     "name": "stdout",
     "output_type": "stream",
     "text": [
      "ArrayImpl([[-0.19338109, -0.19338109, -0.19338109, -0.19338109,\n",
      "            -0.19338109, -0.19338109... * coulomb / mole * Unit(10.0^0) * mmolar * Unit(10.0^0)\n"
     ]
    },
    {
     "ename": "UnitMismatchError",
     "evalue": "Cannot calculate [[0. 0. ... 0. 0.]] + [[-0.39344537 -0.         ... -0.         -0.        ]], units do not match (units are mS/cmeter2 * mV and mS/cmeter2 * Unit(10.0^0) * Unit(10.0^0) * Unit(10.0^0) * C/mol * Unit(10.0^0) * mM * Unit(10.0^0)).",
     "output_type": "error",
     "traceback": [
      "\u001b[1;31m---------------------------------------------------------------------------\u001b[0m",
      "\u001b[1;31mUnitMismatchError\u001b[0m                         Traceback (most recent call last)",
      "Cell \u001b[1;32mIn[9], line 5\u001b[0m\n\u001b[0;32m      3\u001b[0m inp_traces[\u001b[38;5;241m.\u001b[39m\u001b[38;5;241m.\u001b[39m\u001b[38;5;241m.\u001b[39m,\u001b[38;5;241m0\u001b[39m] \u001b[38;5;241m=\u001b[39m\u001b[38;5;241m0.00\u001b[39m  \u001b[38;5;241m*\u001b[39m bu\u001b[38;5;241m.\u001b[39mnA\n\u001b[0;32m      4\u001b[0m inp_traces[:,\u001b[38;5;28mint\u001b[39m(n_seq\u001b[38;5;241m/\u001b[39m\u001b[38;5;241m2\u001b[39m):,:] \u001b[38;5;241m=\u001b[39m\u001b[38;5;241m0.00\u001b[39m  \u001b[38;5;241m*\u001b[39m bu\u001b[38;5;241m.\u001b[39mnA\n\u001b[1;32m----> 5\u001b[0m \u001b[43mvisualize_a_simulate\u001b[49m\u001b[43m(\u001b[49m\u001b[43minp_traces\u001b[49m\u001b[43m[\u001b[49m\u001b[38;5;241;43m0\u001b[39;49m\u001b[43m]\u001b[49m\u001b[43m,\u001b[49m\u001b[43m \u001b[49m\u001b[43msize\u001b[49m\u001b[43m \u001b[49m\u001b[43m,\u001b[49m\u001b[43m \u001b[49m\u001b[43mconnection\u001b[49m\u001b[43m,\u001b[49m\u001b[43m \u001b[49m\u001b[43mRa\u001b[49m\u001b[43m,\u001b[49m\u001b[43m \u001b[49m\u001b[43mcm\u001b[49m\u001b[43m,\u001b[49m\u001b[43m \u001b[49m\u001b[43mdiam\u001b[49m\u001b[43m,\u001b[49m\u001b[43m \u001b[49m\u001b[43mL\u001b[49m\u001b[43m,\u001b[49m\u001b[43m \u001b[49m\u001b[43mgl\u001b[49m\u001b[43m,\u001b[49m\u001b[43m \u001b[49m\u001b[43mgh\u001b[49m\u001b[43m)\u001b[49m\n",
      "Cell \u001b[1;32mIn[7], line 3\u001b[0m, in \u001b[0;36mvisualize_a_simulate\u001b[1;34m(currents, size, connection, Ra, cm, diam, L, gl, gkv11)\u001b[0m\n\u001b[0;32m      1\u001b[0m \u001b[38;5;28;01mdef\u001b[39;00m \u001b[38;5;21mvisualize_a_simulate\u001b[39m(currents, size ,connection, Ra, cm, diam, L, gl, gkv11):\n\u001b[0;32m      2\u001b[0m   times \u001b[38;5;241m=\u001b[39m np\u001b[38;5;241m.\u001b[39marange(\u001b[38;5;241m0\u001b[39m, currents\u001b[38;5;241m.\u001b[39mshape[\u001b[38;5;241m0\u001b[39m]) \u001b[38;5;241m*\u001b[39m bst\u001b[38;5;241m.\u001b[39menviron\u001b[38;5;241m.\u001b[39mget_dt()\n\u001b[1;32m----> 3\u001b[0m   vs, spks \u001b[38;5;241m=\u001b[39m \u001b[43msimulate\u001b[49m\u001b[43m(\u001b[49m\u001b[43mcurrents\u001b[49m\u001b[43m,\u001b[49m\u001b[43m \u001b[49m\u001b[43msize\u001b[49m\u001b[43m \u001b[49m\u001b[43m,\u001b[49m\u001b[43mconnection\u001b[49m\u001b[43m,\u001b[49m\u001b[43m \u001b[49m\u001b[43mRa\u001b[49m\u001b[43m,\u001b[49m\u001b[43m \u001b[49m\u001b[43mcm\u001b[49m\u001b[43m,\u001b[49m\u001b[43m \u001b[49m\u001b[43mdiam\u001b[49m\u001b[43m,\u001b[49m\u001b[43m \u001b[49m\u001b[43mL\u001b[49m\u001b[43m,\u001b[49m\u001b[43m \u001b[49m\u001b[43mgl\u001b[49m\u001b[43m,\u001b[49m\u001b[43m \u001b[49m\u001b[43mgkv11\u001b[49m\u001b[43m)\u001b[49m\n\u001b[0;32m      5\u001b[0m   fig, gs \u001b[38;5;241m=\u001b[39m bts\u001b[38;5;241m.\u001b[39mvisualize\u001b[38;5;241m.\u001b[39mget_figure(\u001b[38;5;241m1\u001b[39m, \u001b[38;5;241m1\u001b[39m, \u001b[38;5;241m3.0\u001b[39m, \u001b[38;5;241m4.0\u001b[39m)\n\u001b[0;32m      6\u001b[0m   ax \u001b[38;5;241m=\u001b[39m fig\u001b[38;5;241m.\u001b[39madd_subplot(gs[\u001b[38;5;241m0\u001b[39m, \u001b[38;5;241m0\u001b[39m])\n",
      "Cell \u001b[1;32mIn[6], line 12\u001b[0m, in \u001b[0;36msimulate\u001b[1;34m(currents, size, connection, Ra, cm, diam, L, gl, gkv11)\u001b[0m\n\u001b[0;32m      9\u001b[0m cell\u001b[38;5;241m.\u001b[39mreset_state()\n\u001b[0;32m     11\u001b[0m times \u001b[38;5;241m=\u001b[39m np\u001b[38;5;241m.\u001b[39marange(\u001b[38;5;241m0\u001b[39m, currents\u001b[38;5;241m.\u001b[39mshape[\u001b[38;5;241m0\u001b[39m]) \u001b[38;5;241m*\u001b[39m bst\u001b[38;5;241m.\u001b[39menviron\u001b[38;5;241m.\u001b[39mget_dt()\n\u001b[1;32m---> 12\u001b[0m vs, spks \u001b[38;5;241m=\u001b[39m \u001b[43mbst\u001b[49m\u001b[38;5;241;43m.\u001b[39;49m\u001b[43mtransform\u001b[49m\u001b[38;5;241;43m.\u001b[39;49m\u001b[43mfor_loop\u001b[49m\u001b[43m(\u001b[49m\u001b[43mcell\u001b[49m\u001b[38;5;241;43m.\u001b[39;49m\u001b[43mstep_run\u001b[49m\u001b[43m,\u001b[49m\u001b[43m \u001b[49m\u001b[43mtimes\u001b[49m\u001b[43m,\u001b[49m\u001b[43m \u001b[49m\u001b[43mcurrents\u001b[49m\u001b[43m)\u001b[49m\n\u001b[0;32m     14\u001b[0m \u001b[38;5;28;01mreturn\u001b[39;00m vs, spks\n",
      "File \u001b[1;32md:\\STUDYTOOL\\anaconda\\envs\\bp_cpu_\\lib\\site-packages\\brainstate\\transform\\_loop_collect_return.py:401\u001b[0m, in \u001b[0;36mfor_loop\u001b[1;34m(f, length, reverse, unroll, pbar, *xs)\u001b[0m\n\u001b[0;32m    359\u001b[0m \u001b[38;5;129m@set_module_as\u001b[39m(\u001b[38;5;124m'\u001b[39m\u001b[38;5;124mbrainstate.transform\u001b[39m\u001b[38;5;124m'\u001b[39m)\n\u001b[0;32m    360\u001b[0m \u001b[38;5;28;01mdef\u001b[39;00m \u001b[38;5;21mfor_loop\u001b[39m(\n\u001b[0;32m    361\u001b[0m     f: Callable[[X], Y],\n\u001b[1;32m   (...)\u001b[0m\n\u001b[0;32m    366\u001b[0m     pbar: Optional[ProgressBar] \u001b[38;5;241m=\u001b[39m \u001b[38;5;28;01mNone\u001b[39;00m\n\u001b[0;32m    367\u001b[0m ):\n\u001b[0;32m    368\u001b[0m \u001b[38;5;250m  \u001b[39m\u001b[38;5;124;03m\"\"\"\u001b[39;00m\n\u001b[0;32m    369\u001b[0m \u001b[38;5;124;03m  ``for-loop`` control flow with :py:class:`~.State`.\u001b[39;00m\n\u001b[0;32m    370\u001b[0m \n\u001b[1;32m   (...)\u001b[0m\n\u001b[0;32m    399\u001b[0m \n\u001b[0;32m    400\u001b[0m \u001b[38;5;124;03m  \"\"\"\u001b[39;00m\n\u001b[1;32m--> 401\u001b[0m   _, ys \u001b[38;5;241m=\u001b[39m \u001b[43mscan\u001b[49m\u001b[43m(\u001b[49m\n\u001b[0;32m    402\u001b[0m \u001b[43m    \u001b[49m\u001b[43m_forloop_to_scan_fun\u001b[49m\u001b[43m(\u001b[49m\u001b[43mf\u001b[49m\u001b[43m)\u001b[49m\u001b[43m,\u001b[49m\n\u001b[0;32m    403\u001b[0m \u001b[43m    \u001b[49m\u001b[43minit\u001b[49m\u001b[38;5;241;43m=\u001b[39;49m\u001b[38;5;28;43;01mNone\u001b[39;49;00m\u001b[43m,\u001b[49m\n\u001b[0;32m    404\u001b[0m \u001b[43m    \u001b[49m\u001b[43mxs\u001b[49m\u001b[38;5;241;43m=\u001b[39;49m\u001b[43mxs\u001b[49m\u001b[43m,\u001b[49m\n\u001b[0;32m    405\u001b[0m \u001b[43m    \u001b[49m\u001b[43mlength\u001b[49m\u001b[38;5;241;43m=\u001b[39;49m\u001b[43mlength\u001b[49m\u001b[43m,\u001b[49m\n\u001b[0;32m    406\u001b[0m \u001b[43m    \u001b[49m\u001b[43mreverse\u001b[49m\u001b[38;5;241;43m=\u001b[39;49m\u001b[43mreverse\u001b[49m\u001b[43m,\u001b[49m\n\u001b[0;32m    407\u001b[0m \u001b[43m    \u001b[49m\u001b[43munroll\u001b[49m\u001b[38;5;241;43m=\u001b[39;49m\u001b[43munroll\u001b[49m\u001b[43m,\u001b[49m\n\u001b[0;32m    408\u001b[0m \u001b[43m    \u001b[49m\u001b[43mpbar\u001b[49m\u001b[38;5;241;43m=\u001b[39;49m\u001b[43mpbar\u001b[49m\n\u001b[0;32m    409\u001b[0m \u001b[43m  \u001b[49m\u001b[43m)\u001b[49m\n\u001b[0;32m    410\u001b[0m   \u001b[38;5;28;01mreturn\u001b[39;00m ys\n",
      "File \u001b[1;32md:\\STUDYTOOL\\anaconda\\envs\\bp_cpu_\\lib\\site-packages\\brainstate\\transform\\_loop_collect_return.py:200\u001b[0m, in \u001b[0;36mscan\u001b[1;34m(f, init, xs, length, reverse, unroll, pbar)\u001b[0m\n\u001b[0;32m    198\u001b[0m \u001b[38;5;28;01mfor\u001b[39;00m i \u001b[38;5;129;01min\u001b[39;00m maybe_reversed(\u001b[38;5;28mrange\u001b[39m(length)):\n\u001b[0;32m    199\u001b[0m   xs_slice \u001b[38;5;241m=\u001b[39m [jax\u001b[38;5;241m.\u001b[39mlax\u001b[38;5;241m.\u001b[39mindex_in_dim(x, i, keepdims\u001b[38;5;241m=\u001b[39m\u001b[38;5;28;01mFalse\u001b[39;00m) \u001b[38;5;28;01mfor\u001b[39;00m x \u001b[38;5;129;01min\u001b[39;00m xs_flat]\n\u001b[1;32m--> 200\u001b[0m   carry, y \u001b[38;5;241m=\u001b[39m \u001b[43mf\u001b[49m\u001b[43m(\u001b[49m\u001b[43mcarry\u001b[49m\u001b[43m,\u001b[49m\u001b[43m \u001b[49m\u001b[43mjax\u001b[49m\u001b[38;5;241;43m.\u001b[39;49m\u001b[43mtree\u001b[49m\u001b[38;5;241;43m.\u001b[39;49m\u001b[43munflatten\u001b[49m\u001b[43m(\u001b[49m\u001b[43mxs_tree\u001b[49m\u001b[43m,\u001b[49m\u001b[43m \u001b[49m\u001b[43mxs_slice\u001b[49m\u001b[43m)\u001b[49m\u001b[43m)\u001b[49m\n\u001b[0;32m    201\u001b[0m   ys\u001b[38;5;241m.\u001b[39mappend(y)\n\u001b[0;32m    202\u001b[0m stacked_y \u001b[38;5;241m=\u001b[39m jax\u001b[38;5;241m.\u001b[39mtree\u001b[38;5;241m.\u001b[39mmap(\u001b[38;5;28;01mlambda\u001b[39;00m \u001b[38;5;241m*\u001b[39melems: jnp\u001b[38;5;241m.\u001b[39mstack(elems), \u001b[38;5;241m*\u001b[39mmaybe_reversed(ys))\n",
      "File \u001b[1;32md:\\STUDYTOOL\\anaconda\\envs\\bp_cpu_\\lib\\site-packages\\brainstate\\transform\\_loop_collect_return.py:354\u001b[0m, in \u001b[0;36m_forloop_to_scan_fun.<locals>.scan_fun\u001b[1;34m(carry, x)\u001b[0m\n\u001b[0;32m    352\u001b[0m \u001b[38;5;129m@wraps\u001b[39m(f)\n\u001b[0;32m    353\u001b[0m \u001b[38;5;28;01mdef\u001b[39;00m \u001b[38;5;21mscan_fun\u001b[39m(carry, x):\n\u001b[1;32m--> 354\u001b[0m   \u001b[38;5;28;01mreturn\u001b[39;00m carry, \u001b[43mf\u001b[49m\u001b[43m(\u001b[49m\u001b[38;5;241;43m*\u001b[39;49m\u001b[43mx\u001b[49m\u001b[43m)\u001b[49m\n",
      "Cell \u001b[1;32mIn[5], line 21\u001b[0m, in \u001b[0;36mGolgi.step_run\u001b[1;34m(self, t, inp)\u001b[0m\n\u001b[0;32m     20\u001b[0m \u001b[38;5;28;01mdef\u001b[39;00m \u001b[38;5;21mstep_run\u001b[39m(\u001b[38;5;28mself\u001b[39m, t, inp):\n\u001b[1;32m---> 21\u001b[0m   \u001b[43mdx\u001b[49m\u001b[38;5;241;43m.\u001b[39;49m\u001b[43mrk4_step\u001b[49m\u001b[43m(\u001b[49m\u001b[38;5;28;43mself\u001b[39;49m\u001b[43m,\u001b[49m\u001b[43m \u001b[49m\u001b[43mt\u001b[49m\u001b[43m,\u001b[49m\u001b[43m \u001b[49m\u001b[43minp\u001b[49m\u001b[43m)\u001b[49m\n\u001b[0;32m     22\u001b[0m   \u001b[38;5;28;01mreturn\u001b[39;00m \u001b[38;5;28mself\u001b[39m\u001b[38;5;241m.\u001b[39mV\u001b[38;5;241m.\u001b[39mvalue, \u001b[38;5;28mself\u001b[39m\u001b[38;5;241m.\u001b[39mspike\u001b[38;5;241m.\u001b[39mvalue\n",
      "File \u001b[1;32md:\\STUDYTOOL\\anaconda\\envs\\bp_cpu_\\lib\\site-packages\\dendritex\\_integrators.py:164\u001b[0m, in \u001b[0;36mrk4_step\u001b[1;34m(target, t, *args)\u001b[0m\n\u001b[0;32m    162\u001b[0m \u001b[38;5;28;01mwith\u001b[39;00m bst\u001b[38;5;241m.\u001b[39mStateTrace() \u001b[38;5;28;01mas\u001b[39;00m trace:\n\u001b[0;32m    163\u001b[0m   target\u001b[38;5;241m.\u001b[39mbefore_integral(\u001b[38;5;241m*\u001b[39margs)\n\u001b[1;32m--> 164\u001b[0m   \u001b[43mtarget\u001b[49m\u001b[38;5;241;43m.\u001b[39;49m\u001b[43mcompute_derivative\u001b[49m\u001b[43m(\u001b[49m\u001b[38;5;241;43m*\u001b[39;49m\u001b[43margs\u001b[49m\u001b[43m)\u001b[49m\n\u001b[0;32m    166\u001b[0m   \u001b[38;5;66;03m# state collection\u001b[39;00m\n\u001b[0;32m    167\u001b[0m   states \u001b[38;5;241m=\u001b[39m \u001b[38;5;28mtuple\u001b[39m([st \u001b[38;5;28;01mfor\u001b[39;00m st \u001b[38;5;129;01min\u001b[39;00m trace\u001b[38;5;241m.\u001b[39mstates \u001b[38;5;28;01mif\u001b[39;00m \u001b[38;5;28misinstance\u001b[39m(st, State4Integral)])\n",
      "File \u001b[1;32md:\\STUDYTOOL\\anaconda\\envs\\bp_cpu_\\lib\\site-packages\\dendritex\\neurons\\multi_compartment.py:221\u001b[0m, in \u001b[0;36mMultiCompartment.compute_derivative\u001b[1;34m(self, I_ext)\u001b[0m\n\u001b[0;32m    219\u001b[0m I_channel \u001b[38;5;241m=\u001b[39m \u001b[38;5;28;01mNone\u001b[39;00m\n\u001b[0;32m    220\u001b[0m \u001b[38;5;28;01mfor\u001b[39;00m ch \u001b[38;5;129;01min\u001b[39;00m \u001b[38;5;28mself\u001b[39m\u001b[38;5;241m.\u001b[39mnodes(level\u001b[38;5;241m=\u001b[39m\u001b[38;5;241m1\u001b[39m, include_self\u001b[38;5;241m=\u001b[39m\u001b[38;5;28;01mFalse\u001b[39;00m)\u001b[38;5;241m.\u001b[39msubset(IonChannel)\u001b[38;5;241m.\u001b[39mvalues():\n\u001b[1;32m--> 221\u001b[0m   I_channel \u001b[38;5;241m=\u001b[39m ch\u001b[38;5;241m.\u001b[39mcurrent(\u001b[38;5;28mself\u001b[39m\u001b[38;5;241m.\u001b[39mV\u001b[38;5;241m.\u001b[39mvalue) \u001b[38;5;28;01mif\u001b[39;00m I_channel \u001b[38;5;129;01mis\u001b[39;00m \u001b[38;5;28;01mNone\u001b[39;00m \u001b[38;5;28;01melse\u001b[39;00m (\u001b[43mI_channel\u001b[49m\u001b[43m \u001b[49m\u001b[38;5;241;43m+\u001b[39;49m\u001b[43m \u001b[49m\u001b[43mch\u001b[49m\u001b[38;5;241;43m.\u001b[39;49m\u001b[43mcurrent\u001b[49m\u001b[43m(\u001b[49m\u001b[38;5;28;43mself\u001b[39;49m\u001b[38;5;241;43m.\u001b[39;49m\u001b[43mV\u001b[49m\u001b[38;5;241;43m.\u001b[39;49m\u001b[43mvalue\u001b[49m\u001b[43m)\u001b[49m)\n\u001b[0;32m    222\u001b[0m \u001b[38;5;66;03m# 4. derivatives\u001b[39;00m\n\u001b[0;32m    223\u001b[0m \u001b[38;5;28mself\u001b[39m\u001b[38;5;241m.\u001b[39mV\u001b[38;5;241m.\u001b[39mderivative \u001b[38;5;241m=\u001b[39m (I_ext \u001b[38;5;241m+\u001b[39m I_axial \u001b[38;5;241m+\u001b[39m I_syn \u001b[38;5;241m+\u001b[39m I_channel) \u001b[38;5;241m/\u001b[39m \u001b[38;5;28mself\u001b[39m\u001b[38;5;241m.\u001b[39mcm\n",
      "File \u001b[1;32md:\\STUDYTOOL\\anaconda\\envs\\bp_cpu_\\lib\\site-packages\\brainunit\\_base.py:2650\u001b[0m, in \u001b[0;36mQuantity.__add__\u001b[1;34m(self, oc)\u001b[0m\n\u001b[0;32m   2649\u001b[0m \u001b[38;5;28;01mdef\u001b[39;00m \u001b[38;5;21m__add__\u001b[39m(\u001b[38;5;28mself\u001b[39m, oc):\n\u001b[1;32m-> 2650\u001b[0m   \u001b[38;5;28;01mreturn\u001b[39;00m \u001b[38;5;28;43mself\u001b[39;49m\u001b[38;5;241;43m.\u001b[39;49m\u001b[43m_binary_operation\u001b[49m\u001b[43m(\u001b[49m\u001b[43moc\u001b[49m\u001b[43m,\u001b[49m\u001b[43m \u001b[49m\u001b[43moperator\u001b[49m\u001b[38;5;241;43m.\u001b[39;49m\u001b[43madd\u001b[49m\u001b[43m,\u001b[49m\u001b[43m \u001b[49m\u001b[43mfail_for_mismatch\u001b[49m\u001b[38;5;241;43m=\u001b[39;49m\u001b[38;5;28;43;01mTrue\u001b[39;49;00m\u001b[43m,\u001b[49m\u001b[43m \u001b[49m\u001b[43moperator_str\u001b[49m\u001b[38;5;241;43m=\u001b[39;49m\u001b[38;5;124;43m\"\u001b[39;49m\u001b[38;5;124;43m+\u001b[39;49m\u001b[38;5;124;43m\"\u001b[39;49m\u001b[43m)\u001b[49m\n",
      "File \u001b[1;32md:\\STUDYTOOL\\anaconda\\envs\\bp_cpu_\\lib\\site-packages\\brainunit\\_base.py:2631\u001b[0m, in \u001b[0;36mQuantity._binary_operation\u001b[1;34m(self, other, value_operation, unit_operation, fail_for_mismatch, operator_str, inplace)\u001b[0m\n\u001b[0;32m   2629\u001b[0m \u001b[38;5;28;01melse\u001b[39;00m:\n\u001b[0;32m   2630\u001b[0m   message \u001b[38;5;241m=\u001b[39m \u001b[38;5;124m\"\u001b[39m\u001b[38;5;124mCannot calculate \u001b[39m\u001b[38;5;132;01m{value1}\u001b[39;00m\u001b[38;5;124m \u001b[39m\u001b[38;5;132;01m%s\u001b[39;00m\u001b[38;5;124m \u001b[39m\u001b[38;5;132;01m{value2}\u001b[39;00m\u001b[38;5;124m, units do not match\u001b[39m\u001b[38;5;124m\"\u001b[39m \u001b[38;5;241m%\u001b[39m operator_str\n\u001b[1;32m-> 2631\u001b[0m   _, other_unit \u001b[38;5;241m=\u001b[39m \u001b[43mfail_for_unit_mismatch\u001b[49m\u001b[43m(\u001b[49m\u001b[38;5;28;43mself\u001b[39;49m\u001b[43m,\u001b[49m\u001b[43m \u001b[49m\u001b[43mother\u001b[49m\u001b[43m,\u001b[49m\u001b[43m \u001b[49m\u001b[43mmessage\u001b[49m\u001b[43m,\u001b[49m\u001b[43m \u001b[49m\u001b[43mvalue1\u001b[49m\u001b[38;5;241;43m=\u001b[39;49m\u001b[38;5;28;43mself\u001b[39;49m\u001b[43m,\u001b[49m\u001b[43m \u001b[49m\u001b[43mvalue2\u001b[49m\u001b[38;5;241;43m=\u001b[39;49m\u001b[43mother\u001b[49m\u001b[43m)\u001b[49m\n\u001b[0;32m   2632\u001b[0m \u001b[38;5;28;01mif\u001b[39;00m \u001b[38;5;129;01mnot\u001b[39;00m other_unit\u001b[38;5;241m.\u001b[39mhas_same_scale(\u001b[38;5;28mself\u001b[39m\u001b[38;5;241m.\u001b[39munit):\n\u001b[0;32m   2633\u001b[0m   other_value \u001b[38;5;241m=\u001b[39m other_value \u001b[38;5;241m*\u001b[39m (other_unit\u001b[38;5;241m.\u001b[39mvalue \u001b[38;5;241m/\u001b[39m \u001b[38;5;28mself\u001b[39m\u001b[38;5;241m.\u001b[39munit\u001b[38;5;241m.\u001b[39mvalue)\n",
      "File \u001b[1;32md:\\STUDYTOOL\\anaconda\\envs\\bp_cpu_\\lib\\site-packages\\brainunit\\_base.py:863\u001b[0m, in \u001b[0;36mfail_for_unit_mismatch\u001b[1;34m(obj1, obj2, error_message, **error_arrays)\u001b[0m\n\u001b[0;32m    861\u001b[0m   \u001b[38;5;28;01mraise\u001b[39;00m UnitMismatchError(error_message, unit1)\n\u001b[0;32m    862\u001b[0m \u001b[38;5;28;01melse\u001b[39;00m:\n\u001b[1;32m--> 863\u001b[0m   \u001b[38;5;28;01mraise\u001b[39;00m UnitMismatchError(error_message, unit1, unit2)\n",
      "\u001b[1;31mUnitMismatchError\u001b[0m: Cannot calculate [[0. 0. ... 0. 0.]] + [[-0.39344537 -0.         ... -0.         -0.        ]], units do not match (units are mS/cmeter2 * mV and mS/cmeter2 * Unit(10.0^0) * Unit(10.0^0) * Unit(10.0^0) * C/mol * Unit(10.0^0) * mM * Unit(10.0^0))."
     ]
    }
   ],
   "source": [
    "n_batch, n_seq =1, 200000\n",
    "inp_traces = np.full((n_batch, n_seq, n_compartments), 0.) * bu.nA\n",
    "inp_traces[...,0] =0.00  * bu.nA\n",
    "inp_traces[:,int(n_seq/2):,:] =0.00  * bu.nA\n",
    "visualize_a_simulate(inp_traces[0], size , connection, Ra, cm, diam, L, gl, gh)"
   ]
  },
  {
   "cell_type": "code",
   "execution_count": null,
   "metadata": {},
   "outputs": [],
   "source": []
  },
  {
   "cell_type": "code",
   "execution_count": null,
   "metadata": {},
   "outputs": [],
   "source": [
    "E = (1e-3) * -55*bu.mV\n",
    "zeta = (2 * bu.faraday_constant * E )/( bu.gas_constant  * (273.15 + 22) * bu.kelvin)\n",
    "zeta.to_decimal()\n",
    "\n"
   ]
  },
  {
   "cell_type": "code",
   "execution_count": null,
   "metadata": {},
   "outputs": [],
   "source": [
    "a = -55 * bu.mV\n",
    "b=a / bu.mV\n",
    "b"
   ]
  },
  {
   "cell_type": "code",
   "execution_count": null,
   "metadata": {},
   "outputs": [],
   "source": [
    "## conductvalues \n",
    "conductvalues = 1e3 * np.array([\n",
    "    0.00499506303209, 0.01016375552607, 0.00247172479141, 0.00128859564935, \n",
    "    3.690771983E-05, 0.0080938853146, 0.01226052748146, 0.01650689958385, \n",
    "    0.00139885617712, 0.14927733727426, 0.00549507510519, 0.14910988921938, \n",
    "    0.00406420380423, 0.01764345789036, 0.10177335775222, 0.0087689418803, \n",
    "    3.407734319E-05, 0.0003371456442, 0.00030643090764, 0.17233663543619, \n",
    "    0.00024381226198, 0.10008178886943, 0.00595046001148, 0.0115, 0.0091\n",
    "])\n",
    "\n",
    "\n",
    "## IL params\n",
    "gl =  np.ones(n_compartments) \n",
    "gl[index_soma] = 0.03  \n",
    "gl[index_axon] = 0.001  \n",
    "gl[index_axon[0]] = 0.03\n",
    "gl[index_dend_basal] = 0.03\n",
    "gl[index_dend_apical] = 0.03   \n",
    "\n",
    "\n",
    "## Kv11 params\n",
    "gkv11 =  np.zeros(n_compartments) \n",
    "gkv11[index_soma] = conductvalues[10] \n",
    "\n",
    "## Kv34 params \n",
    "gkv34 =  np.zeros(n_compartments) \n",
    "gkv34[index_soma] = conductvalues[11]\n",
    "gkv34[index_axon[1:]] = 9.1\n",
    "\n",
    "## Kv43 params \n",
    "gkv43 =  np.zeros(n_compartments) \n",
    "gkv43[index_soma] = conductvalues[12]\n"
   ]
  },
  {
   "cell_type": "code",
   "execution_count": null,
   "metadata": {},
   "outputs": [],
   "source": [
    "class Golgi(dx.neurons.MultiCompartment):\n",
    "  def __init__(self, size , connection, Ra, cm, diam, L, gl, gkv11):\n",
    "    super().__init__(\n",
    "      size = size,\n",
    "      connection = connection,\n",
    "      Ra = Ra * bu.ohm * bu.cm,\n",
    "      cm = cm * bu.uF / bu.cm ** 2,\n",
    "      diam = diam * bu.um,\n",
    "      L = L * bu.um,\n",
    "      V_th = 20. * bu.mV,\n",
    "      V_initializer = bst.init.Constant(-55 * bu.mV),\n",
    "      spk_fun = bst.surrogate.ReluGrad(),\n",
    "    )\n",
    "\n",
    "    self.IL = dx.channels.IL(self.size, E = -55. * bu.mV, g_max = gl*s )\n",
    "    self.k = dx.ions.PotassiumFixed(self.size, E = -80.* bu.mV)\n",
    "    self.k.add_elem(dx.channels.IKv11_Ak2007(self.size, g_max = gkv11*s ))\n",
    "   \n",
    "  def step_run(self, t, inp):\n",
    "    dx.rk4_step(self, t, inp)\n",
    "    return self.V.value, self.spike.value"
   ]
  },
  {
   "cell_type": "code",
   "execution_count": null,
   "metadata": {},
   "outputs": [],
   "source": [
    "from functools import partial\n",
    "\n",
    "#static_args = np.arange(1, 9)\n",
    "#@partial(jax.jit, static_argnums=static_args)\n",
    "#@jax.jit\n",
    "def simulate(currents, size , connection, Ra, cm, diam, L, gl, gkv11):\n",
    "  cell = Golgi(size , connection, Ra, cm, diam, L, gl, gkv11)\n",
    "  cell.init_state()\n",
    "  cell.reset_state()\n",
    "\n",
    "  times = np.arange(0, currents.shape[0]) * bst.environ.get_dt()\n",
    "  vs, spks = bst.transform.for_loop(cell.step_run, times, currents)\n",
    "  \n",
    "  return vs, spks \n"
   ]
  },
  {
   "cell_type": "code",
   "execution_count": null,
   "metadata": {},
   "outputs": [],
   "source": [
    "def visualize_a_simulate(currents, size ,connection, Ra, cm, diam, L, gl, gkv11):\n",
    "  times = np.arange(0, currents.shape[0]) * bst.environ.get_dt()\n",
    "  vs, spks = simulate(currents, size ,connection, Ra, cm, diam, L, gl, gkv11)\n",
    "\n",
    "  fig, gs = bts.visualize.get_figure(1, 1, 3.0, 4.0)\n",
    "  ax = fig.add_subplot(gs[0, 0])\n",
    "  plt.plot(times / bu.ms, bu.math.squeeze(vs / bu.mV))\n",
    "  plt.xlabel('Time [ms]')\n",
    "  plt.ylabel('Potential [mV]')\n",
    "  plt.show()"
   ]
  },
  {
   "cell_type": "code",
   "execution_count": null,
   "metadata": {},
   "outputs": [],
   "source": [
    "n_batch, n_seq =1, 200000\n",
    "inp_traces = np.full((n_batch, n_seq, n_compartments), 0.) * bu.nA\n",
    "inp_traces[...,0] =0.00  * bu.nA\n",
    "inp_traces[:,int(n_seq/2):,:] =0.00  * bu.nA\n",
    "visualize_a_simulate(inp_traces[0], size , connection, Ra, cm, diam, L, gl, gkv11)"
   ]
  }
 ],
 "metadata": {
  "kernelspec": {
   "display_name": "base",
   "language": "python",
   "name": "python3"
  },
  "language_info": {
   "codemirror_mode": {
    "name": "ipython",
    "version": 3
   },
   "file_extension": ".py",
   "mimetype": "text/x-python",
   "name": "python",
   "nbconvert_exporter": "python",
   "pygments_lexer": "ipython3",
   "version": "3.10.14"
  }
 },
 "nbformat": 4,
 "nbformat_minor": 2
}
